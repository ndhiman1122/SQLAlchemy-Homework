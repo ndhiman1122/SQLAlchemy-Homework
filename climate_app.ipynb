{
 "cells": [
  {
   "cell_type": "markdown",
   "metadata": {},
   "source": [
    "# Climate App"
   ]
  },
  {
   "cell_type": "code",
   "execution_count": 1,
   "metadata": {},
   "outputs": [],
   "source": [
    "import numpy as np\n",
    "\n",
    "\n",
    "import sqlalchemy\n",
    "from sqlalchemy.ext.automap import automap_base\n",
    "from sqlalchemy.orm import Session\n",
    "from sqlalchemy import create_engine, func"
   ]
  },
  {
   "cell_type": "code",
   "execution_count": 3,
   "metadata": {},
   "outputs": [],
   "source": [
    "#Import Flask\n",
    "from flask import Flask, jsonify\n",
    "engine = create_engine(\"sqlite:///hawaii.sqlite\")\n",
    "session = Session(engine)"
   ]
  },
  {
   "cell_type": "code",
   "execution_count": 5,
   "metadata": {},
   "outputs": [],
   "source": [
    "# Display existing database into new model\n",
    "Base = automap_base()\n",
    "\n",
    "# Display the tables\n",
    "Base.prepare(engine, reflect=True)"
   ]
  },
  {
   "cell_type": "code",
   "execution_count": 6,
   "metadata": {},
   "outputs": [],
   "source": [
    "# Save the references to each table\n",
    "measurement = Base.classes.measurement\n",
    "station = Base.classes.station"
   ]
  },
  {
   "cell_type": "code",
   "execution_count": 7,
   "metadata": {},
   "outputs": [],
   "source": [
    "# Create an app - remember to use _name_\n",
    "\n",
    "app = Flask(__name__)"
   ]
  },
  {
   "cell_type": "code",
   "execution_count": null,
   "metadata": {},
   "outputs": [],
   "source": [
    "# Define what to do when a user hits the index route\n",
    "@app.route(\"/\")\n",
    "def home():\n",
    "    \"\"\"List all api routes\"\"\"\n",
    "    return (\n",
    "        f\"Available Routes:<br/>\"\n",
    "        f\"/api/v1.0/precipitation<br/>\"\n",
    "        f\"/api/v1.0/stations<br/>\"\n",
    "        f\"/api/v1.0/tobs<br/>\"\n",
    "        f\"/api/v1.0/start replace 'start' with an actual date <br/>\"\n",
    "        f\"/api/v1.0/start/end replace 'start' and 'end with an actual date\"\n",
    "    )\n",
    "\n",
    "\n",
    "@app.route(\"/api/v1.0/precipitation\")\n",
    "def get_precipitation():\n",
    "\n",
    "\n",
    "    qry = session.query(me.date, me.prcp).filter(me.date >= \"2016-08-23\").filter(me.date <= \"2017-08-23\").all()\n",
    "    temps = list(np.ravel(qry))\n",
    "    return jsonify(temps)\n",
    "\n",
    "@app.route(\"/api/v1.0/stations\")\n",
    "def get_station():\n",
    "\n",
    "\n",
    "    hist = session.query(stat.station).all()\n",
    "    paimon = list(np.ravel(hist))\n",
    "    return jsonify(paimon)\n",
    "\n",
    "@app.route(\"/api/v1.0/tobs\")\n",
    "def get_tobs():\n",
    "    hist2 = session.query(me.date, me.tobs).filter(me.station == 'USC00519281').filter(me.date >= \"2016-08-23\").filter(me.date <= \"2017-08-23\").all()\n",
    "    byemon = list(np.ravel(hist2))\n",
    "    return jsonify(byemon)\n",
    "\n",
    "@app.route(\"/api/v1.0/<start>\")\n",
    "def start_range(start):\n",
    "    bib = session.query(func.avg(me.tobs), func.max(me.tobs), func.min(me.tobs)).filter(me.date >= start).all()\n",
    "    fib = list(np.ravel(bib))\n",
    "    print(fib)\n",
    "    return jsonify(fib)\n",
    "\n",
    "@app.route(\"/api/v1.0/<start>/<end>\")\n",
    "def startend(start,end):\n",
    "    gib = session.query(func.avg(me.tobs), func.max(me.tobs), func.min(me.tobs)).filter(me.date >= start).filter(me.date <= end).all()\n",
    "    lib = list(np.ravel(gib))\n",
    "    return jsonify(lib)\n",
    "\n",
    "if __name__ == '__main__':\n",
    "    app.run()"
   ]
  },
  {
   "cell_type": "code",
   "execution_count": null,
   "metadata": {},
   "outputs": [],
   "source": []
  }
 ],
 "metadata": {
  "anaconda-cloud": {},
  "interpreter": {
   "hash": "a077222d77dfe082b8f1dd562ad70e458ac2ab76993a0b248ab0476e32e9e8dd"
  },
  "kernel_info": {
   "name": "python3"
  },
  "kernelspec": {
   "display_name": "Python 3 (ipykernel)",
   "language": "python",
   "name": "python3"
  },
  "language_info": {
   "codemirror_mode": {
    "name": "ipython",
    "version": 3
   },
   "file_extension": ".py",
   "mimetype": "text/x-python",
   "name": "python",
   "nbconvert_exporter": "python",
   "pygments_lexer": "ipython3",
   "version": "3.9.7"
  },
  "nteract": {
   "version": "0.12.3"
  },
  "varInspector": {
   "cols": {
    "lenName": 16,
    "lenType": 16,
    "lenVar": 40
   },
   "kernels_config": {
    "python": {
     "delete_cmd_postfix": "",
     "delete_cmd_prefix": "del ",
     "library": "var_list.py",
     "varRefreshCmd": "print(var_dic_list())"
    },
    "r": {
     "delete_cmd_postfix": ") ",
     "delete_cmd_prefix": "rm(",
     "library": "var_list.r",
     "varRefreshCmd": "cat(var_dic_list()) "
    }
   },
   "types_to_exclude": [
    "module",
    "function",
    "builtin_function_or_method",
    "instance",
    "_Feature"
   ],
   "window_display": false
  }
 },
 "nbformat": 4,
 "nbformat_minor": 2
}
